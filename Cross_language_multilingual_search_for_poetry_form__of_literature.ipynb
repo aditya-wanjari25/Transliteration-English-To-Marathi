{
  "nbformat": 4,
  "nbformat_minor": 0,
  "metadata": {
    "colab": {
      "provenance": []
    },
    "kernelspec": {
      "name": "python3",
      "display_name": "Python 3"
    },
    "language_info": {
      "name": "python"
    }
  },
  "cells": [
    {
      "cell_type": "code",
      "execution_count": null,
      "metadata": {
        "id": "hrft4lsZtBXK",
        "colab": {
          "base_uri": "https://localhost:8080/"
        },
        "outputId": "666c961e-1c9c-4d1b-b2c3-031990423f24"
      },
      "outputs": [
        {
          "output_type": "stream",
          "name": "stdout",
          "text": [
            "[nltk_data] Downloading package punkt to /root/nltk_data...\n",
            "[nltk_data]   Unzipping tokenizers/punkt.zip.\n"
          ]
        }
      ],
      "source": [
        "import nltk\n",
        "nltk.download('punkt')\n",
        "from nltk.tokenize import word_tokenize\n",
        "import pandas as pd\n",
        "from operator import itemgetter"
      ]
    },
    {
      "cell_type": "code",
      "source": [
        "word_tokenize(\"तुका तेथे वारी\")"
      ],
      "metadata": {
        "colab": {
          "base_uri": "https://localhost:8080/"
        },
        "id": "MIX9XTQ99alV",
        "outputId": "f819710d-aaa8-43c1-c434-fedc1fdd9686"
      },
      "execution_count": null,
      "outputs": [
        {
          "output_type": "execute_result",
          "data": {
            "text/plain": [
              "['तुका', 'तेथे', 'वारी']"
            ]
          },
          "metadata": {},
          "execution_count": 2
        }
      ]
    },
    {
      "cell_type": "code",
      "source": [
        "pip install fuzzywuzzy\n"
      ],
      "metadata": {
        "id": "4YSirQolKyQw",
        "colab": {
          "base_uri": "https://localhost:8080/"
        },
        "outputId": "31490b6b-f32d-4125-c2d5-851cc8223d89"
      },
      "execution_count": null,
      "outputs": [
        {
          "output_type": "stream",
          "name": "stdout",
          "text": [
            "Collecting fuzzywuzzy\n",
            "  Downloading fuzzywuzzy-0.18.0-py2.py3-none-any.whl (18 kB)\n",
            "Installing collected packages: fuzzywuzzy\n",
            "Successfully installed fuzzywuzzy-0.18.0\n"
          ]
        }
      ]
    },
    {
      "cell_type": "code",
      "source": [],
      "metadata": {
        "id": "dtzJED3ft7fA"
      },
      "execution_count": null,
      "outputs": []
    },
    {
      "cell_type": "code",
      "source": [
        "from fuzzywuzzy import  fuzz"
      ],
      "metadata": {
        "id": "CavutM7BK5HW",
        "colab": {
          "base_uri": "https://localhost:8080/"
        },
        "outputId": "ba6a5937-4a1b-4fdb-eefb-f209830abdbb"
      },
      "execution_count": null,
      "outputs": [
        {
          "output_type": "stream",
          "name": "stderr",
          "text": [
            "/usr/local/lib/python3.7/dist-packages/fuzzywuzzy/fuzz.py:11: UserWarning: Using slow pure-python SequenceMatcher. Install python-Levenshtein to remove this warning\n",
            "  warnings.warn('Using slow pure-python SequenceMatcher. Install python-Levenshtein to remove this warning')\n"
          ]
        }
      ]
    },
    {
      "cell_type": "code",
      "source": [
        "print(fuzz.ratio(\"शनिवार \" ,\"शानिवार \"))"
      ],
      "metadata": {
        "colab": {
          "base_uri": "https://localhost:8080/"
        },
        "id": "VPRD7eEzt9Hz",
        "outputId": "37478de0-1f7a-43e6-c9f0-3478f0a65e66"
      },
      "execution_count": null,
      "outputs": [
        {
          "output_type": "stream",
          "name": "stdout",
          "text": [
            "93\n"
          ]
        }
      ]
    },
    {
      "cell_type": "code",
      "source": [
        "# English Alphabet\n",
        "vowels = ['a','e','i','o','u']\n",
        "consonants = ['b','c','d','f','g','h','j','k','l','m','n','p','q','r','s','t','v','w','x','y','z']\n",
        "\n",
        "# Marathi Characters\n",
        "character_table = {\n",
        "\n",
        "    'क' : 'k', 'ख' : 'kh', 'ग'  : 'g', 'घ' : 'gh',\n",
        "    'च' : 'ch', 'छ' : 'ch',  'ज' : 'j', 'झ' : 'jh',  'त्र'  : 'tr',\n",
        "    'ट' : 'ta', 'ठ' : 'tha',  'ड' : 'da', 'ढ' : 'dha',  'ण' : 'na',\n",
        "    'त' : 'ta', 'थ' : 'tha',  'द' : 'da', 'ध' : 'dha',  'न' : 'na',\n",
        "    'प' : 'p', 'फ' : 'pha',  'ब' : 'b', 'भ' : 'bh',  'म' : 'm',\n",
        "    'य' : 'y', 'र' : 'r',    'ल' : 'l', 'व'  : 'v',  'श'  : 'sh',\n",
        "    'ष' : 'sha', 'स'  : 's',  'ह' : 'h', 'ळ' : 'la',   'क्ष' : 'ksha', 'ज्ञ'  : 'dny'\n",
        "\n",
        "}\n",
        "\n",
        "swar_table = {    'अ' : 'a',    'आ' : 'a',    'इ'  : 'i',    'ई'  : 'i',    'उ ' : 'u',    'ऊ ' : 'u',    'ऋ' : 'ri',\n",
        "    'ए'   : 'e',    'ऐ'   : 'ai',    'ओ'  : 'o',    'औ'  : 'au',    'अं'  :  'am' ,   'अः' :  'ah',}\n",
        "\n",
        "character_table = { character_table[k]:k for k in character_table}\n",
        "swar_table = { swar_table[k]:k for k in swar_table}\n",
        "\n",
        "# character_table\n"
      ],
      "metadata": {
        "id": "tN6ic2WAuEvS"
      },
      "execution_count": null,
      "outputs": []
    },
    {
      "cell_type": "code",
      "source": [
        "# Unicode Dataset\n",
        "# signs include chandrbindu, anusvar, visarga\n",
        "# signs = {\n",
        "#     ['an','aw'] : \"\\u0901\",\n",
        "#     ['m'] : \"\\u0902\",\n",
        "#     ['ah']: '\\u0903'\n",
        "# }\n",
        "\n",
        "# independent vowels / swars\n",
        "independent_vowels = {\n",
        "    'a':'\\u0905',\n",
        "    'aa':'\\u0906',\n",
        "    'i' : '\\u0907',\n",
        "    'ii' : '\\u0908',\n",
        "    'u':'\\u0909',\n",
        "    'uu':'\\u090A',\n",
        "    'ri':'\\u090B',\n",
        "    'e' : '\\u090E',\n",
        "    'ai' : '\\u0910',\n",
        "    'ao' : '\\u0911',\n",
        "    'o' : '\\u0912',\n",
        "    'au' :'\\u0914'\n",
        "}\n",
        "\n",
        "# Consonants / vyanjans\n",
        "consonants = {\n",
        "    'k':'\\u0915',\n",
        "    'kh':'\\u0916',\n",
        "    'g':'\\u0917',\n",
        "    'gh':'\\u0918',\n",
        "    'ng':'\\u0919',\n",
        "    'c':'\\u091A',\n",
        "    'ch':'\\u091B',\n",
        "    'j':'\\u091C',\n",
        "    'jh':'\\u091D',\n",
        "    'ny':'\\u091E',\n",
        "    'tt':'\\u091F',\n",
        "    'ttha':'\\u0920',\n",
        "    'dda':'\\u0921',\n",
        "    'ddha':'\\u0922',\n",
        "    'nna':'\\u0923',\n",
        "    't':'\\u0924',\n",
        "    'th':'\\u0925',\n",
        "    'd':'\\u0926',\n",
        "    'dha':'\\u0927',\n",
        "    'n':'\\u0928',\n",
        "    'p':'\\u092A',\n",
        "    'ph':'\\u092B',\n",
        "    'b':'\\u092C',\n",
        "    'bh':'\\u092D',\n",
        "    'm':'\\u092E',\n",
        "    'y':'\\u092F',\n",
        "    'r':'\\u0930',\n",
        "    'l':'\\u0932',\n",
        "    'lla':'\\u0933',\n",
        "    'v':'\\u0935',\n",
        "    'sh':'\\u0936',\n",
        "    'shh':'\\u0937',\n",
        "    's':'\\u0938',\n",
        "    'h':'\\u0939',\n",
        "    'z':'\\u091D'\n",
        "\n",
        "}\n",
        "\n",
        "matras = {\n",
        "    'a':'\\u093E',\n",
        "    'i':'\\u093F',\n",
        "    'ii':'\\u0940',\n",
        "    'u':'\\u0941',\n",
        "    'uu':'\\u0942',\n",
        "    'e':'\\u0947',\n",
        "    'ai':'\\u0948',\n",
        "    'o':'\\u094B',\n",
        "    'au':'\\u094C',\n",
        "}\n",
        "\n",
        "\n",
        "predicted = {\n",
        "    'sh' : ['\\u0936', '\\u0937'],\n",
        "    'a'  : ['\\u0905'],\n",
        "    'e'  : ['\\u0907'],\n",
        "    'kh' : ['\\u0916'],\n",
        "    'gh':'\\u0918',\n",
        "    'ch':'\\u091B',\n",
        "    'jh':'\\u091D',\n",
        "\n",
        "    'ny':'\\u091E',\n",
        "    'shr': '\\u0936'+'\\u094D'+'\\u0930',\n",
        "}\n"
      ],
      "metadata": {
        "id": "aCEt143HtuPQ"
      },
      "execution_count": null,
      "outputs": []
    },
    {
      "cell_type": "code",
      "source": [
        "def splitTwo(word):\n",
        "  l = []\n",
        "  j=0\n",
        "  for i in range(len(word)):\n",
        "    if i%2==0 and i!=0:\n",
        "      l.append(word[j:i])\n",
        "      j=i\n",
        "  l.append(word[j:])\n",
        "  return l"
      ],
      "metadata": {
        "id": "umxYOrjUtxbR"
      },
      "execution_count": null,
      "outputs": []
    },
    {
      "cell_type": "code",
      "source": [
        "def isVowel(letter):\n",
        "  if letter in ['a','e','i','o','u']:\n",
        "    return True\n",
        "  else:\n",
        "    return False"
      ],
      "metadata": {
        "id": "FTHdNkd3t5gS"
      },
      "execution_count": null,
      "outputs": []
    },
    {
      "cell_type": "markdown",
      "source": [
        "Search Part"
      ],
      "metadata": {
        "id": "WM1ptvbELRSM"
      }
    },
    {
      "cell_type": "code",
      "source": [
        "data = pd.read_excel('Poems.xlsx')\n",
        "data = pd.DataFrame(data)"
      ],
      "metadata": {
        "id": "GOcNb8W_LLxQ"
      },
      "execution_count": null,
      "outputs": []
    },
    {
      "cell_type": "code",
      "source": [
        "data.head()"
      ],
      "metadata": {
        "id": "CaNAAohrby_h",
        "colab": {
          "base_uri": "https://localhost:8080/",
          "height": 206
        },
        "outputId": "438144bb-be41-42fd-a832-95082df8185a"
      },
      "execution_count": null,
      "outputs": [
        {
          "output_type": "execute_result",
          "data": {
            "text/html": [
              "\n",
              "  <div id=\"df-d46cb1da-481f-410e-92d6-cf5d700e30b2\">\n",
              "    <div class=\"colab-df-container\">\n",
              "      <div>\n",
              "<style scoped>\n",
              "    .dataframe tbody tr th:only-of-type {\n",
              "        vertical-align: middle;\n",
              "    }\n",
              "\n",
              "    .dataframe tbody tr th {\n",
              "        vertical-align: top;\n",
              "    }\n",
              "\n",
              "    .dataframe thead th {\n",
              "        text-align: right;\n",
              "    }\n",
              "</style>\n",
              "<table border=\"1\" class=\"dataframe\">\n",
              "  <thead>\n",
              "    <tr style=\"text-align: right;\">\n",
              "      <th></th>\n",
              "      <th>Poet</th>\n",
              "      <th>Title</th>\n",
              "      <th>Poem</th>\n",
              "    </tr>\n",
              "  </thead>\n",
              "  <tbody>\n",
              "    <tr>\n",
              "      <th>0</th>\n",
              "      <td>बाबूराव बागूल</td>\n",
              "      <td>तुक्याची वीणा</td>\n",
              "      <td>मी हाका मारतोय तुला\\nहे अदृश्य\\nउकळते माझे अंत...</td>\n",
              "    </tr>\n",
              "    <tr>\n",
              "      <th>1</th>\n",
              "      <td>अरुण कोलटकर</td>\n",
              "      <td>वामांगी</td>\n",
              "      <td>देवळात गेलो होतो मधे\\nतिथ विठ्ठल काही दिसेना\\n...</td>\n",
              "    </tr>\n",
              "    <tr>\n",
              "      <th>2</th>\n",
              "      <td>श्रीकृष्ण राऊत</td>\n",
              "      <td>तुको बादशहा</td>\n",
              "      <td>मंबाजी,\\nतुमचे आभार मानावे\\nतेवढे थोडेच.\\n\\nतु...</td>\n",
              "    </tr>\n",
              "    <tr>\n",
              "      <th>3</th>\n",
              "      <td>अमोल बागूल</td>\n",
              "      <td>तुकाराम बोल्होबा आंबिले</td>\n",
              "      <td>फुटून याव्यांत रक्‍तात, लालजर्द सांयकाळी ।\\nतु...</td>\n",
              "    </tr>\n",
              "    <tr>\n",
              "      <th>4</th>\n",
              "      <td>डॉ. राजा दीक्षित</td>\n",
              "      <td>चकोर</td>\n",
              "      <td>माझी तहान सरेना\\nगेली कोठे चंद्रकोर\\nएका अक्षर...</td>\n",
              "    </tr>\n",
              "  </tbody>\n",
              "</table>\n",
              "</div>\n",
              "      <button class=\"colab-df-convert\" onclick=\"convertToInteractive('df-d46cb1da-481f-410e-92d6-cf5d700e30b2')\"\n",
              "              title=\"Convert this dataframe to an interactive table.\"\n",
              "              style=\"display:none;\">\n",
              "        \n",
              "  <svg xmlns=\"http://www.w3.org/2000/svg\" height=\"24px\"viewBox=\"0 0 24 24\"\n",
              "       width=\"24px\">\n",
              "    <path d=\"M0 0h24v24H0V0z\" fill=\"none\"/>\n",
              "    <path d=\"M18.56 5.44l.94 2.06.94-2.06 2.06-.94-2.06-.94-.94-2.06-.94 2.06-2.06.94zm-11 1L8.5 8.5l.94-2.06 2.06-.94-2.06-.94L8.5 2.5l-.94 2.06-2.06.94zm10 10l.94 2.06.94-2.06 2.06-.94-2.06-.94-.94-2.06-.94 2.06-2.06.94z\"/><path d=\"M17.41 7.96l-1.37-1.37c-.4-.4-.92-.59-1.43-.59-.52 0-1.04.2-1.43.59L10.3 9.45l-7.72 7.72c-.78.78-.78 2.05 0 2.83L4 21.41c.39.39.9.59 1.41.59.51 0 1.02-.2 1.41-.59l7.78-7.78 2.81-2.81c.8-.78.8-2.07 0-2.86zM5.41 20L4 18.59l7.72-7.72 1.47 1.35L5.41 20z\"/>\n",
              "  </svg>\n",
              "      </button>\n",
              "      \n",
              "  <style>\n",
              "    .colab-df-container {\n",
              "      display:flex;\n",
              "      flex-wrap:wrap;\n",
              "      gap: 12px;\n",
              "    }\n",
              "\n",
              "    .colab-df-convert {\n",
              "      background-color: #E8F0FE;\n",
              "      border: none;\n",
              "      border-radius: 50%;\n",
              "      cursor: pointer;\n",
              "      display: none;\n",
              "      fill: #1967D2;\n",
              "      height: 32px;\n",
              "      padding: 0 0 0 0;\n",
              "      width: 32px;\n",
              "    }\n",
              "\n",
              "    .colab-df-convert:hover {\n",
              "      background-color: #E2EBFA;\n",
              "      box-shadow: 0px 1px 2px rgba(60, 64, 67, 0.3), 0px 1px 3px 1px rgba(60, 64, 67, 0.15);\n",
              "      fill: #174EA6;\n",
              "    }\n",
              "\n",
              "    [theme=dark] .colab-df-convert {\n",
              "      background-color: #3B4455;\n",
              "      fill: #D2E3FC;\n",
              "    }\n",
              "\n",
              "    [theme=dark] .colab-df-convert:hover {\n",
              "      background-color: #434B5C;\n",
              "      box-shadow: 0px 1px 3px 1px rgba(0, 0, 0, 0.15);\n",
              "      filter: drop-shadow(0px 1px 2px rgba(0, 0, 0, 0.3));\n",
              "      fill: #FFFFFF;\n",
              "    }\n",
              "  </style>\n",
              "\n",
              "      <script>\n",
              "        const buttonEl =\n",
              "          document.querySelector('#df-d46cb1da-481f-410e-92d6-cf5d700e30b2 button.colab-df-convert');\n",
              "        buttonEl.style.display =\n",
              "          google.colab.kernel.accessAllowed ? 'block' : 'none';\n",
              "\n",
              "        async function convertToInteractive(key) {\n",
              "          const element = document.querySelector('#df-d46cb1da-481f-410e-92d6-cf5d700e30b2');\n",
              "          const dataTable =\n",
              "            await google.colab.kernel.invokeFunction('convertToInteractive',\n",
              "                                                     [key], {});\n",
              "          if (!dataTable) return;\n",
              "\n",
              "          const docLinkHtml = 'Like what you see? Visit the ' +\n",
              "            '<a target=\"_blank\" href=https://colab.research.google.com/notebooks/data_table.ipynb>data table notebook</a>'\n",
              "            + ' to learn more about interactive tables.';\n",
              "          element.innerHTML = '';\n",
              "          dataTable['output_type'] = 'display_data';\n",
              "          await google.colab.output.renderOutput(dataTable, element);\n",
              "          const docLink = document.createElement('div');\n",
              "          docLink.innerHTML = docLinkHtml;\n",
              "          element.appendChild(docLink);\n",
              "        }\n",
              "      </script>\n",
              "    </div>\n",
              "  </div>\n",
              "  "
            ],
            "text/plain": [
              "               Poet  ...                                               Poem\n",
              "0     बाबूराव बागूल  ...  मी हाका मारतोय तुला\\nहे अदृश्य\\nउकळते माझे अंत...\n",
              "1       अरुण कोलटकर  ...  देवळात गेलो होतो मधे\\nतिथ विठ्ठल काही दिसेना\\n...\n",
              "2    श्रीकृष्ण राऊत  ...  मंबाजी,\\nतुमचे आभार मानावे\\nतेवढे थोडेच.\\n\\nतु...\n",
              "3        अमोल बागूल  ...  फुटून याव्यांत रक्‍तात, लालजर्द सांयकाळी ।\\nतु...\n",
              "4  डॉ. राजा दीक्षित  ...  माझी तहान सरेना\\nगेली कोठे चंद्रकोर\\nएका अक्षर...\n",
              "\n",
              "[5 rows x 3 columns]"
            ]
          },
          "metadata": {},
          "execution_count": 9
        }
      ]
    },
    {
      "cell_type": "code",
      "source": [
        "def get_accuracies_poet(search_query):\n",
        "  acc_list = []\n",
        "  temp_dict = {}\n",
        "  row=0\n",
        "  for poets in data.Poet:\n",
        "    acc =  fuzz.partial_ratio(poets, search_query)\n",
        "    temp_dict ={\n",
        "        \"acc\":acc,\n",
        "        \"poet\":poets,\n",
        "        \"row\":row\n",
        "    }\n",
        "    row+=1\n",
        "    acc_list.append(temp_dict)\n",
        "    temp_dict={}\n",
        "  return acc_list"
      ],
      "metadata": {
        "id": "5B63LkAzk98J"
      },
      "execution_count": null,
      "outputs": []
    },
    {
      "cell_type": "code",
      "source": [
        "sorted(get_accuracies_poet(\"तुकाराम \"), key = itemgetter('acc'), reverse=True )"
      ],
      "metadata": {
        "id": "4oSERIesvy6z"
      },
      "execution_count": null,
      "outputs": []
    },
    {
      "cell_type": "code",
      "source": [],
      "metadata": {
        "id": "9C6XDwzh1kKn"
      },
      "execution_count": null,
      "outputs": []
    },
    {
      "cell_type": "code",
      "source": [
        "ans = sorted(get_accuracies_poet(\"अरुन कोलातकार \"), key = itemgetter('acc'), reverse=True )\n",
        "for i in ans:\n",
        "  print(data.loc[i['row']])"
      ],
      "metadata": {
        "id": "LobEdQ9iuK0B",
        "colab": {
          "base_uri": "https://localhost:8080/"
        },
        "outputId": "2c23d819-79f0-4a9c-cb9d-7fa49a8ab7f7"
      },
      "execution_count": null,
      "outputs": [
        {
          "output_type": "stream",
          "name": "stdout",
          "text": [
            "Poet                                              तुकाराम \n",
            "Title                                      कृष्ण जन्म अभंग\n",
            "Poem     फिराविली दोन्ही । कन्या आणि चक्रपाणी ॥१॥\\nजाला...\n",
            "Name: 7, dtype: object\n",
            "Poet                                              तुकाराम \n",
            "Title                                   कृष्ण जन्म अभंग २.\n",
            "Poem     करूनि आरती । आता ओवाळू श्रीपती ॥१॥\\nआजि पुरले ...\n",
            "Name: 8, dtype: object\n",
            "Poet                                              तुकाराम \n",
            "Title                                   कृष्ण जन्म अभंग ३.\n",
            "Poem     सोडियेल्या गांठी । दरुषणे कृष्णभेटी ॥१॥\\nकरिती...\n",
            "Name: 9, dtype: object\n",
            "Poet                                              तुकाराम \n",
            "Title                                   कृष्ण जन्म अभंग ४.\n",
            "Poem     मुख डोळा पाहे । तैशीच ते उभी राहे ॥१॥\\nकेल्याव...\n",
            "Name: 10, dtype: object\n",
            "Poet                                              तुकाराम \n",
            "Title                               कृष्ण जन्म अभंग ५.\\n\\n\n",
            "Poem     गोकुळीच्या सुखा । अंतपार नाही लेखा ॥१॥\\nबाळकृष...\n",
            "Name: 11, dtype: object\n",
            "Poet                                              तुकाराम \n",
            "Title                                   कृष्ण जन्म अभंग ६.\n",
            "Poem     विटंबिले भट । दिला पाठीवरी पाट ॥१॥\\nखोटे जाणोन...\n",
            "Name: 12, dtype: object\n",
            "Poet                                              तुकाराम \n",
            "Title                                        रूपाचे अभंग १\n",
            "Poem     समचरणदृष्टि विटेवरी साजिरी ।\\nतेथे माझी हरी वृ...\n",
            "Name: 13, dtype: object\n",
            "Poet                                              तुकाराम \n",
            "Title                                        रूपाचे अभंग २\n",
            "Poem     सुंदर ते ध्यान उभे विटेवरी ।\\nकर कटावरी ठेवुनि...\n",
            "Name: 14, dtype: object\n",
            "Poet                                              तुकाराम \n",
            "Title                                        रूपाचे अभंग ३\n",
            "Poem     सदा माझे डोळे जडो तुझे मूर्ती ।\\nरखुमाईच्या पत...\n",
            "Name: 15, dtype: object\n",
            "Poet                                              तुकाराम \n",
            "Title                                        रूपाचे अभंग ४\n",
            "Poem     राजस सुकुमार मदनाचा पुतळा ।\\nरविशशिकळा लोपलिया...\n",
            "Name: 16, dtype: object\n",
            "Poet                                              तुकाराम \n",
            "Title                                        रूपाचे अभंग ५\n",
            "Poem     कर कटावरी तुळसीच्या माळा ।\\nऐसे रूप डोळा दावी ...\n",
            "Name: 17, dtype: object\n",
            "Poet                                              तुकाराम \n",
            "Title                                        रूपाचे अभंग ६\n",
            "Poem     गरुडाचे वारिके कासे पीतांबर ।\\nसांवळे मनोहर कै...\n",
            "Name: 18, dtype: object\n",
            "Poet                                              तुकाराम \n",
            "Title                              पूर्व जन्म वृत्तान्त १.\n",
            "Poem     आम्ही वैकुंठवासी । आलो या चि कारणासी ।\\nबोलिले...\n",
            "Name: 19, dtype: object\n",
            "Poet                                              तुकाराम \n",
            "Title                              पूर्व जन्म वृत्तान्त २.\n",
            "Poem     आम्ही हरिचे सवंगडे । जुने ठायीचे वेडे बागडे ।\\...\n",
            "Name: 20, dtype: object\n",
            "Poet                                              तुकाराम \n",
            "Title                              पूर्व जन्म वृत्तान्त ३.\n",
            "Poem     आम्ही हरिचे सवंगडे । जुने ठायीचे वेडे बागडे ।\\...\n",
            "Name: 21, dtype: object\n",
            "Poet                                              तुकाराम \n",
            "Title                         पूर्व जन्म वृत्तान्त ४.\\n\\n \n",
            "Poem     मागे बहुता जन्मी । हे चि करित आलो आम्ही ।\\nभवत...\n",
            "Name: 22, dtype: object\n",
            "Poet                                              तुकाराम \n",
            "Title                              पूर्व जन्म वृत्तान्त ५.\n",
            "Poem     ब्रम्हज्ञान जरी एके दिवसी कळे । तात्काळ हा गळे...\n",
            "Name: 23, dtype: object\n",
            "Poet                                              तुकाराम \n",
            "Title                              पूर्व जन्म वृत्तान्त ६.\n",
            "Poem     कोटी जन्म पुण्य साधन साधिले । तेणे हाता आले हर...\n",
            "Name: 24, dtype: object\n",
            "Poet                                              तुकाराम \n",
            "Title                                        भक्त प्रल्हाद\n",
            "Poem     १\\nप्रल्हादाकारणे नरसिंह जालासी । त्याचिया बोल...\n",
            "Name: 25, dtype: object\n",
            "Poet                                           अरुण कोलटकर\n",
            "Title                                              वामांगी\n",
            "Poem     देवळात गेलो होतो मधे\\nतिथ विठ्ठल काही दिसेना\\n...\n",
            "Name: 1, dtype: object\n",
            "Poet                                            अमोल बागूल\n",
            "Title                              तुकाराम बोल्होबा आंबिले\n",
            "Poem     फुटून याव्यांत रक्‍तात, लालजर्द सांयकाळी ।\\nतु...\n",
            "Name: 3, dtype: object\n",
            "Poet                                         बाबूराव बागूल\n",
            "Title                                        तुक्याची वीणा\n",
            "Poem     मी हाका मारतोय तुला\\nहे अदृश्य\\nउकळते माझे अंत...\n",
            "Name: 0, dtype: object\n",
            "Poet                                      डॉ. राजा दीक्षित\n",
            "Title                                                 चकोर\n",
            "Poem     माझी तहान सरेना\\nगेली कोठे चंद्रकोर\\nएका अक्षर...\n",
            "Name: 4, dtype: object\n",
            "Poet                                       सुरेश श्रीधर भट\n",
            "Title                                    एवढे दे पांडुरंगा\n",
            "Poem     माझिया गीतांत वेडे\\nदुःख संतांचे भिनावे\\nवाळल्...\n",
            "Name: 5, dtype: object\n",
            "Poet                                       सुरेश श्रीधर भट\n",
            "Title                                           तुकारामाला\n",
            "Poem      तुझे दुःख तुझे नाही !\\nतुझे दुःख आमचे आहे !\\n...\n",
            "Name: 6, dtype: object\n",
            "Poet                                       पु. ल. देशपांडे\n",
            "Title                                     मी राहतो पुण्यात\n",
            "Poem     मी राहतो पुण्यात\\nम्हणजे विद्वत्तेच्या ‘ठाण्या...\n",
            "Name: 26, dtype: object\n",
            "Poet                                       पु. ल. देशपांडे\n",
            "Title                                               प्रश्न\n",
            "Poem     आताशा बुडणा-या सुर्याला\\n‘बराय उद्या भेटू’\\n\\n...\n",
            "Name: 27, dtype: object\n",
            "Poet                                       पु. ल. देशपांडे\n",
            "Title                                          वटसावित्री \n",
            "Poem     ‘वटेश्वरा, पुढल्या जन्मोजन्मी मला\\n‘ह्यां’ च्य...\n",
            "Name: 28, dtype: object\n",
            "Poet                                       पु. ल. देशपांडे\n",
            "Title                                           पक्षनिष्ठा\n",
            "Poem     पंचवीस मार्क कमी पडून नापास\\nझालेले चिरंजीव ति...\n",
            "Name: 29, dtype: object\n",
            "Poet                                        श्रीकृष्ण राऊत\n",
            "Title                                          तुको बादशहा\n",
            "Poem     मंबाजी,\\nतुमचे आभार मानावे\\nतेवढे थोडेच.\\n\\nतु...\n",
            "Name: 2, dtype: object\n"
          ]
        }
      ]
    },
    {
      "cell_type": "code",
      "source": [
        "def get_accuracies_title(search_query):\n",
        "  acc_list = []\n",
        "  temp_dict = {}\n",
        "  row=0\n",
        "  for title in data.Title:\n",
        "    acc =  fuzz.partial_ratio(title, search_query)\n",
        "    temp_dict ={\n",
        "        \"acc\":acc,\n",
        "        \"title\":title,\n",
        "        \"row\":row\n",
        "    }\n",
        "    row+=1\n",
        "    acc_list.append(temp_dict)\n",
        "    temp_dict={}\n",
        "  return acc_list"
      ],
      "metadata": {
        "id": "PlB0N57om7ji"
      },
      "execution_count": null,
      "outputs": []
    },
    {
      "cell_type": "code",
      "source": [
        "def get_accuracies(search_query):\n",
        "  acc_list = []\n",
        "  temp_dict = {}\n",
        "  row=0\n",
        "  for poems in data.Poem:\n",
        "    acc =  fuzz.partial_ratio(poems, search_query)\n",
        "    temp_dict ={\n",
        "        \"acc\":acc,\n",
        "        \"poems\":poems,\n",
        "        \"row\":row\n",
        "    }\n",
        "    row+=1\n",
        "    acc_list.append(temp_dict)\n",
        "    temp_dict={}\n",
        "  return acc_list"
      ],
      "metadata": {
        "id": "bR222a-l_vKK"
      },
      "execution_count": null,
      "outputs": []
    },
    {
      "cell_type": "code",
      "source": [
        "# Original\n",
        "# def get_accuracies(search_query):\n",
        "#   accuracy ={};\n",
        "#   count=0\n",
        "#   for poem in data.Poem:\n",
        "#     acc = fuzz.partial_ratio(poem, search_query)\n",
        "\n",
        "#     accuracy[acc] = count\n",
        "#     count+=1\n",
        "#   return accuracy"
      ],
      "metadata": {
        "id": "aoQb8GdALYnS"
      },
      "execution_count": null,
      "outputs": []
    },
    {
      "cell_type": "code",
      "source": [
        "english_sentence = input(\"Enter text in English :\")\n",
        "tokenized_words = word_tokenize(english_sentence)\n",
        "result = \"\"\n",
        "vowel = \"\"\n",
        "consonant = \"\"\n",
        "final = []\n",
        "first_char_check = 0\n",
        "for word in tokenized_words:\n",
        "    characters = list(word)\n",
        "    for char in characters:\n",
        "      if isVowel(char) and first_char_check == 0 :\n",
        "        result += independent_vowels[char]\n",
        "        first_char_check = 1\n",
        "      else:\n",
        "        first_char_check = 1\n",
        "        if isVowel(char):\n",
        "          result += matras[char]\n",
        "        else:\n",
        "          result += consonants[char]\n",
        "    final.append(result)\n",
        "    result = \"\"\n",
        "    first_char_check = 0"
      ],
      "metadata": {
        "colab": {
          "base_uri": "https://localhost:8080/"
        },
        "id": "FaeA8w5oMIJA",
        "outputId": "b06d069f-40b7-4237-d1f9-0065d4a8a757"
      },
      "execution_count": null,
      "outputs": [
        {
          "name": "stdout",
          "output_type": "stream",
          "text": [
            "Enter text in English :arun kolatkar\n"
          ]
        }
      ]
    },
    {
      "cell_type": "code",
      "source": [
        "transliteratied_string = \"\"\n",
        "for ans in final:\n",
        "  transliteratied_string+=ans+\" \"\n",
        "  # print(ans, end=\" \")\n",
        "transliteratied_string"
      ],
      "metadata": {
        "colab": {
          "base_uri": "https://localhost:8080/",
          "height": 35
        },
        "id": "BbD7Hf7SL6tw",
        "outputId": "51577376-ca1e-4c02-e787-391bd3f5ffbf"
      },
      "execution_count": null,
      "outputs": [
        {
          "output_type": "execute_result",
          "data": {
            "application/vnd.google.colaboratory.intrinsic+json": {
              "type": "string"
            },
            "text/plain": [
              "'अरुन कोलातकार '"
            ]
          },
          "metadata": {},
          "execution_count": 13
        }
      ]
    },
    {
      "cell_type": "code",
      "source": [
        "ans = sorted(get_accuracies_poet(\"अरुन कोलातकार\"), key = itemgetter('acc'), reverse=True )\n",
        "for i in ans:\n",
        "  print(data.loc[i['row']])"
      ],
      "metadata": {
        "colab": {
          "base_uri": "https://localhost:8080/"
        },
        "id": "7YTwDxsFAhQs",
        "outputId": "96eaeaba-049e-4fbb-9c5c-a7a4502f05b9"
      },
      "execution_count": null,
      "outputs": [
        {
          "output_type": "stream",
          "name": "stdout",
          "text": [
            "Poet                                           अरुण कोलटकर\n",
            "Title                                              वामांगी\n",
            "Poem     देवळात गेलो होतो मधे\\nतिथ विठ्ठल काही दिसेना\\n...\n",
            "Name: 1, dtype: object\n",
            "Poet                                              तुकाराम \n",
            "Title                                      कृष्ण जन्म अभंग\n",
            "Poem     फिराविली दोन्ही । कन्या आणि चक्रपाणी ॥१॥\\nजाला...\n",
            "Name: 7, dtype: object\n",
            "Poet                                              तुकाराम \n",
            "Title                                   कृष्ण जन्म अभंग २.\n",
            "Poem     करूनि आरती । आता ओवाळू श्रीपती ॥१॥\\nआजि पुरले ...\n",
            "Name: 8, dtype: object\n",
            "Poet                                              तुकाराम \n",
            "Title                                   कृष्ण जन्म अभंग ३.\n",
            "Poem     सोडियेल्या गांठी । दरुषणे कृष्णभेटी ॥१॥\\nकरिती...\n",
            "Name: 9, dtype: object\n",
            "Poet                                              तुकाराम \n",
            "Title                                   कृष्ण जन्म अभंग ४.\n",
            "Poem     मुख डोळा पाहे । तैशीच ते उभी राहे ॥१॥\\nकेल्याव...\n",
            "Name: 10, dtype: object\n",
            "Poet                                              तुकाराम \n",
            "Title                               कृष्ण जन्म अभंग ५.\\n\\n\n",
            "Poem     गोकुळीच्या सुखा । अंतपार नाही लेखा ॥१॥\\nबाळकृष...\n",
            "Name: 11, dtype: object\n",
            "Poet                                              तुकाराम \n",
            "Title                                   कृष्ण जन्म अभंग ६.\n",
            "Poem     विटंबिले भट । दिला पाठीवरी पाट ॥१॥\\nखोटे जाणोन...\n",
            "Name: 12, dtype: object\n",
            "Poet                                              तुकाराम \n",
            "Title                                        रूपाचे अभंग १\n",
            "Poem     समचरणदृष्टि विटेवरी साजिरी ।\\nतेथे माझी हरी वृ...\n",
            "Name: 13, dtype: object\n",
            "Poet                                              तुकाराम \n",
            "Title                                        रूपाचे अभंग २\n",
            "Poem     सुंदर ते ध्यान उभे विटेवरी ।\\nकर कटावरी ठेवुनि...\n",
            "Name: 14, dtype: object\n",
            "Poet                                              तुकाराम \n",
            "Title                                        रूपाचे अभंग ३\n",
            "Poem     सदा माझे डोळे जडो तुझे मूर्ती ।\\nरखुमाईच्या पत...\n",
            "Name: 15, dtype: object\n",
            "Poet                                              तुकाराम \n",
            "Title                                        रूपाचे अभंग ४\n",
            "Poem     राजस सुकुमार मदनाचा पुतळा ।\\nरविशशिकळा लोपलिया...\n",
            "Name: 16, dtype: object\n",
            "Poet                                              तुकाराम \n",
            "Title                                        रूपाचे अभंग ५\n",
            "Poem     कर कटावरी तुळसीच्या माळा ।\\nऐसे रूप डोळा दावी ...\n",
            "Name: 17, dtype: object\n",
            "Poet                                              तुकाराम \n",
            "Title                                        रूपाचे अभंग ६\n",
            "Poem     गरुडाचे वारिके कासे पीतांबर ।\\nसांवळे मनोहर कै...\n",
            "Name: 18, dtype: object\n",
            "Poet                                              तुकाराम \n",
            "Title                              पूर्व जन्म वृत्तान्त १.\n",
            "Poem     आम्ही वैकुंठवासी । आलो या चि कारणासी ।\\nबोलिले...\n",
            "Name: 19, dtype: object\n",
            "Poet                                              तुकाराम \n",
            "Title                              पूर्व जन्म वृत्तान्त २.\n",
            "Poem     आम्ही हरिचे सवंगडे । जुने ठायीचे वेडे बागडे ।\\...\n",
            "Name: 20, dtype: object\n",
            "Poet                                              तुकाराम \n",
            "Title                              पूर्व जन्म वृत्तान्त ३.\n",
            "Poem     आम्ही हरिचे सवंगडे । जुने ठायीचे वेडे बागडे ।\\...\n",
            "Name: 21, dtype: object\n",
            "Poet                                              तुकाराम \n",
            "Title                         पूर्व जन्म वृत्तान्त ४.\\n\\n \n",
            "Poem     मागे बहुता जन्मी । हे चि करित आलो आम्ही ।\\nभवत...\n",
            "Name: 22, dtype: object\n",
            "Poet                                              तुकाराम \n",
            "Title                              पूर्व जन्म वृत्तान्त ५.\n",
            "Poem     ब्रम्हज्ञान जरी एके दिवसी कळे । तात्काळ हा गळे...\n",
            "Name: 23, dtype: object\n",
            "Poet                                              तुकाराम \n",
            "Title                              पूर्व जन्म वृत्तान्त ६.\n",
            "Poem     कोटी जन्म पुण्य साधन साधिले । तेणे हाता आले हर...\n",
            "Name: 24, dtype: object\n",
            "Poet                                              तुकाराम \n",
            "Title                                        भक्त प्रल्हाद\n",
            "Poem     १\\nप्रल्हादाकारणे नरसिंह जालासी । त्याचिया बोल...\n",
            "Name: 25, dtype: object\n",
            "Poet                                            अमोल बागूल\n",
            "Title                              तुकाराम बोल्होबा आंबिले\n",
            "Poem     फुटून याव्यांत रक्‍तात, लालजर्द सांयकाळी ।\\nतु...\n",
            "Name: 3, dtype: object\n",
            "Poet                                      डॉ. राजा दीक्षित\n",
            "Title                                                 चकोर\n",
            "Poem     माझी तहान सरेना\\nगेली कोठे चंद्रकोर\\nएका अक्षर...\n",
            "Name: 4, dtype: object\n",
            "Poet                                        श्रीकृष्ण राऊत\n",
            "Title                                          तुको बादशहा\n",
            "Poem     मंबाजी,\\nतुमचे आभार मानावे\\nतेवढे थोडेच.\\n\\nतु...\n",
            "Name: 2, dtype: object\n",
            "Poet                                       पु. ल. देशपांडे\n",
            "Title                                     मी राहतो पुण्यात\n",
            "Poem     मी राहतो पुण्यात\\nम्हणजे विद्वत्तेच्या ‘ठाण्या...\n",
            "Name: 26, dtype: object\n",
            "Poet                                       पु. ल. देशपांडे\n",
            "Title                                               प्रश्न\n",
            "Poem     आताशा बुडणा-या सुर्याला\\n‘बराय उद्या भेटू’\\n\\n...\n",
            "Name: 27, dtype: object\n",
            "Poet                                       पु. ल. देशपांडे\n",
            "Title                                          वटसावित्री \n",
            "Poem     ‘वटेश्वरा, पुढल्या जन्मोजन्मी मला\\n‘ह्यां’ च्य...\n",
            "Name: 28, dtype: object\n",
            "Poet                                       पु. ल. देशपांडे\n",
            "Title                                           पक्षनिष्ठा\n",
            "Poem     पंचवीस मार्क कमी पडून नापास\\nझालेले चिरंजीव ति...\n",
            "Name: 29, dtype: object\n",
            "Poet                                       सुरेश श्रीधर भट\n",
            "Title                                    एवढे दे पांडुरंगा\n",
            "Poem     माझिया गीतांत वेडे\\nदुःख संतांचे भिनावे\\nवाळल्...\n",
            "Name: 5, dtype: object\n",
            "Poet                                       सुरेश श्रीधर भट\n",
            "Title                                           तुकारामाला\n",
            "Poem      तुझे दुःख तुझे नाही !\\nतुझे दुःख आमचे आहे !\\n...\n",
            "Name: 6, dtype: object\n",
            "Poet                                         बाबूराव बागूल\n",
            "Title                                        तुक्याची वीणा\n",
            "Poem     मी हाका मारतोय तुला\\nहे अदृश्य\\nउकळते माझे अंत...\n",
            "Name: 0, dtype: object\n"
          ]
        }
      ]
    },
    {
      "cell_type": "code",
      "source": [
        "final_list = []\n",
        "final_dict = {}\n",
        "for i in ans:\n",
        "  final_dict = {\n",
        "      \"Row\" : i['row'],\n",
        "      \"Link\": data.iloc[i['row']].Poet + \" - \"+ data.iloc[i['row']].Title\n",
        "  }\n",
        "\n",
        "  final_list.append(final_dict)\n",
        "  final_dict = {}\n",
        "final_list\n"
      ],
      "metadata": {
        "id": "br4RU-S2KCx2"
      },
      "execution_count": null,
      "outputs": []
    },
    {
      "cell_type": "code",
      "source": [
        "for dic in final_list:\n",
        "  print(dic['Link'])"
      ],
      "metadata": {
        "colab": {
          "base_uri": "https://localhost:8080/"
        },
        "id": "OygSyR3BOC01",
        "outputId": "1e093570-3350-4fcd-ce88-3d275c0d1cc4"
      },
      "execution_count": null,
      "outputs": [
        {
          "output_type": "stream",
          "name": "stdout",
          "text": [
            "तुकाराम  - कृष्ण जन्म अभंग\n",
            "तुकाराम  - कृष्ण जन्म अभंग २.\n",
            "तुकाराम  - कृष्ण जन्म अभंग ३.\n",
            "तुकाराम  - कृष्ण जन्म अभंग ४.\n",
            "तुकाराम  - कृष्ण जन्म अभंग ५.\n",
            "\n",
            "\n",
            "तुकाराम  - कृष्ण जन्म अभंग ६.\n",
            "तुकाराम  - रूपाचे अभंग १\n",
            "तुकाराम  - रूपाचे अभंग २\n",
            "तुकाराम  - रूपाचे अभंग ३\n",
            "तुकाराम  - रूपाचे अभंग ४\n",
            "तुकाराम  - रूपाचे अभंग ५\n",
            "तुकाराम  - रूपाचे अभंग ६\n",
            "तुकाराम  - पूर्व जन्म वृत्तान्त १.\n",
            "तुकाराम  - पूर्व जन्म वृत्तान्त २.\n",
            "तुकाराम  - पूर्व जन्म वृत्तान्त ३.\n",
            "तुकाराम  - पूर्व जन्म वृत्तान्त ४.\n",
            "\n",
            " \n",
            "तुकाराम  - पूर्व जन्म वृत्तान्त ५.\n",
            "तुकाराम  - पूर्व जन्म वृत्तान्त ६.\n",
            "तुकाराम  - भक्त प्रल्हाद\n",
            "बाबूराव बागूल - तुक्याची वीणा\n",
            "डॉ. राजा दीक्षित - चकोर\n",
            "सुरेश श्रीधर भट - एवढे दे पांडुरंगा\n",
            "सुरेश श्रीधर भट - तुकारामाला\n",
            "अरुण कोलटकर - वामांगी\n",
            "श्रीकृष्ण राऊत - तुको बादशहा\n",
            "पु. ल. देशपांडे - मी राहतो पुण्यात\n",
            "पु. ल. देशपांडे - प्रश्न\n",
            "पु. ल. देशपांडे - वटसावित्री \n",
            "पु. ल. देशपांडे - पक्षनिष्ठा\n",
            " अमोल बागूल - तुकाराम बोल्होबा आंबिले\n"
          ]
        }
      ]
    },
    {
      "cell_type": "code",
      "source": [
        "data.loc[3].Poem"
      ],
      "metadata": {
        "colab": {
          "base_uri": "https://localhost:8080/",
          "height": 52
        },
        "id": "8edVV1NVK91x",
        "outputId": "2b593518-0318-40c9-89df-dfecfa1ef5b6"
      },
      "execution_count": null,
      "outputs": [
        {
          "output_type": "execute_result",
          "data": {
            "application/vnd.google.colaboratory.intrinsic+json": {
              "type": "string"
            },
            "text/plain": [
              "'फुटून याव्यांत रक्\\u200dतात, लालजर्द सांयकाळी ।\\nतुझ्या अभंग ओळी ॥\\nगाभुळल्या दुखण्याची गच्च काळोखी दुपार।\\nतुझा बुडाला व्यापार ॥\\n\\nपांगुळल्या देहभोगी तुझ्या हाती माझे बोट।\\nदिसे प्रकाशाचे बेट ॥\\n\\nहज्जारदा त्यांनी तुला मनसोक्\\u200dत बुडवावं ।\\nदरवेळी मात्र मीही इंद्रायणीचा डोह व्हावं ॥'"
            ]
          },
          "metadata": {},
          "execution_count": 20
        }
      ]
    },
    {
      "cell_type": "code",
      "source": [
        "var = get_accuracies(transliteratied_string)\n",
        "var\n",
        "# sorted(var, reverse=True)\n",
        "# sorted_dict = sorted(var.items(), key = lambda x : x[0], reverse=True)\n",
        "# sorted_dict\n",
        "# for tup in sorted_dict:\n",
        "#   print(data.loc[tup[1]])\n",
        "#   print(\"\\n\")"
      ],
      "metadata": {
        "colab": {
          "base_uri": "https://localhost:8080/"
        },
        "id": "kLd1Yz1bstcI",
        "outputId": "e5f568ff-a8ca-4cfb-e532-3e273d7c1ebb"
      },
      "execution_count": null,
      "outputs": [
        {
          "output_type": "execute_result",
          "data": {
            "text/plain": [
              "{14: 29, 29: 6, 33: 1, 43: 0, 100: 25}"
            ]
          },
          "metadata": {},
          "execution_count": 47
        }
      ]
    },
    {
      "cell_type": "markdown",
      "source": [
        "Original"
      ],
      "metadata": {
        "id": "vZgKVbw6swDK"
      }
    },
    {
      "cell_type": "code",
      "source": [
        "var = get_accuracies_poet(\"तुकाराम \")\n",
        "sorted(var, reverse=True)\n",
        "sorted_dict = sorted(var.items(), key = lambda x : x[0], reverse=True)\n",
        "sorted_dict\n",
        "for tup in sorted_dict:\n",
        "  print(data.loc[tup[1]])\n",
        "  print(\"\\n\")"
      ],
      "metadata": {
        "colab": {
          "base_uri": "https://localhost:8080/"
        },
        "id": "putx3nCiLfxe",
        "outputId": "e5a2344e-6b76-4291-fdfd-2bbefccf1ce5"
      },
      "execution_count": null,
      "outputs": [
        {
          "output_type": "stream",
          "name": "stdout",
          "text": [
            "Poet                                              तुकाराम \n",
            "Title                                        भक्त प्रल्हाद\n",
            "Poem     १\\nप्रल्हादाकारणे नरसिंह जालासी । त्याचिया बोल...\n",
            "Name: 25, dtype: object\n",
            "\n",
            "\n",
            "Poet                                         बाबूराव बागूल\n",
            "Title                                        तुक्याची वीणा\n",
            "Poem     मी हाका मारतोय तुला\\nहे अदृश्य\\nउकळते माझे अंत...\n",
            "Name: 0, dtype: object\n",
            "\n",
            "\n",
            "Poet                                       सुरेश श्रीधर भट\n",
            "Title                                           तुकारामाला\n",
            "Poem      तुझे दुःख तुझे नाही !\\nतुझे दुःख आमचे आहे !\\n...\n",
            "Name: 6, dtype: object\n",
            "\n",
            "\n",
            "Poet                                           अरुण कोलटकर\n",
            "Title                                              वामांगी\n",
            "Poem     देवळात गेलो होतो मधे\\nतिथ विठ्ठल काही दिसेना\\n...\n",
            "Name: 1, dtype: object\n",
            "\n",
            "\n",
            "Poet                                       पु. ल. देशपांडे\n",
            "Title                                           पक्षनिष्ठा\n",
            "Poem     पंचवीस मार्क कमी पडून नापास\\nझालेले चिरंजीव ति...\n",
            "Name: 29, dtype: object\n",
            "\n",
            "\n",
            "Poet                                            अमोल बागूल\n",
            "Title                              तुकाराम बोल्होबा आंबिले\n",
            "Poem     फुटून याव्यांत रक्‍तात, लालजर्द सांयकाळी ।\\nतु...\n",
            "Name: 3, dtype: object\n",
            "\n",
            "\n"
          ]
        }
      ]
    },
    {
      "cell_type": "code",
      "source": [
        "s1 = \"Aditya is in Goa\"\n",
        "s2 = \"Aditya is in Pune. He studies in VIT\"\n",
        "acc = fuzz.partial_ratio(poem, search_query)"
      ],
      "metadata": {
        "colab": {
          "base_uri": "https://localhost:8080/"
        },
        "id": "k1Y8njm_cI7c",
        "outputId": "67017966-cf0c-4fc9-b0d7-5498b160272c"
      },
      "execution_count": null,
      "outputs": [
        {
          "output_type": "execute_result",
          "data": {
            "text/plain": [
              "81"
            ]
          },
          "metadata": {},
          "execution_count": 19
        }
      ]
    }
  ]
}